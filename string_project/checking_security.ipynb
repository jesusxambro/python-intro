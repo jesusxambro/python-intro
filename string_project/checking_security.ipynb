{
 "cells": [
  {
   "cell_type": "markdown",
   "id": "316032ec",
   "metadata": {},
   "source": [
    "Dataset from : https://www.kaggle.com/datasets/dnkumars/cybersecurity-intrusion-detection-dataset"
   ]
  },
  {
   "cell_type": "code",
   "execution_count": 13,
   "id": "fb7d6734",
   "metadata": {},
   "outputs": [],
   "source": [
    "import pandas as pd"
   ]
  },
  {
   "cell_type": "code",
   "execution_count": 14,
   "id": "e7db8b92",
   "metadata": {},
   "outputs": [],
   "source": [
    "df = pd.read_csv('cybersecurity_intrusion_data.csv')"
   ]
  },
  {
   "cell_type": "code",
   "execution_count": 15,
   "id": "c685e3a0",
   "metadata": {},
   "outputs": [
    {
     "name": "stdout",
     "output_type": "stream",
     "text": [
      "     session_id  network_packet_size protocol_type  login_attempts  \\\n",
      "0     SID_00001                  599           TCP               4   \n",
      "1     SID_00002                  472           TCP               3   \n",
      "2     SID_00003                  629           TCP               3   \n",
      "3     SID_00004                  804           UDP               4   \n",
      "4     SID_00005                  453           TCP               5   \n",
      "...         ...                  ...           ...             ...   \n",
      "9532  SID_09533                  194          ICMP               3   \n",
      "9533  SID_09534                  380           TCP               3   \n",
      "9534  SID_09535                  664           TCP               5   \n",
      "9535  SID_09536                  406           TCP               4   \n",
      "9536  SID_09537                  340           TCP               6   \n",
      "\n",
      "      session_duration encryption_used  ip_reputation_score  failed_logins  \\\n",
      "0           492.983263             DES             0.606818              1   \n",
      "1          1557.996461             DES             0.301569              0   \n",
      "2            75.044262             DES             0.739164              2   \n",
      "3           601.248835             DES             0.123267              0   \n",
      "4           532.540888             AES             0.054874              1   \n",
      "...                ...             ...                  ...            ...   \n",
      "9532        226.049889             AES             0.517737              3   \n",
      "9533        182.848475             NaN             0.408485              0   \n",
      "9534         35.170248             AES             0.359200              1   \n",
      "9535         86.664703             AES             0.537417              1   \n",
      "9536         86.876744             NaN             0.277069              4   \n",
      "\n",
      "     browser_type  unusual_time_access  attack_detected  \n",
      "0            Edge                    0                1  \n",
      "1         Firefox                    0                0  \n",
      "2          Chrome                    0                1  \n",
      "3         Unknown                    0                1  \n",
      "4         Firefox                    0                0  \n",
      "...           ...                  ...              ...  \n",
      "9532       Chrome                    0                1  \n",
      "9533       Chrome                    0                0  \n",
      "9534      Firefox                    0                0  \n",
      "9535       Chrome                    1                0  \n",
      "9536       Chrome                    1                1  \n",
      "\n",
      "[9537 rows x 11 columns]\n"
     ]
    }
   ],
   "source": [
    "print(df)"
   ]
  },
  {
   "cell_type": "code",
   "execution_count": 16,
   "id": "bbf57604",
   "metadata": {},
   "outputs": [
    {
     "name": "stdout",
     "output_type": "stream",
     "text": [
      "Index(['session_id', 'network_packet_size', 'protocol_type', 'login_attempts',\n",
      "       'session_duration', 'encryption_used', 'ip_reputation_score',\n",
      "       'failed_logins', 'browser_type', 'unusual_time_access',\n",
      "       'attack_detected'],\n",
      "      dtype='object')\n"
     ]
    }
   ],
   "source": [
    "print(df.columns)"
   ]
  },
  {
   "cell_type": "code",
   "execution_count": 17,
   "id": "b3083955",
   "metadata": {},
   "outputs": [
    {
     "name": "stdout",
     "output_type": "stream",
     "text": [
      "['DES' 'AES' nan]\n"
     ]
    }
   ],
   "source": [
    "print(df['encryption_used'].unique())"
   ]
  },
  {
   "cell_type": "code",
   "execution_count": 25,
   "id": "b09982fb",
   "metadata": {},
   "outputs": [
    {
     "name": "stdout",
     "output_type": "stream",
     "text": [
      "['Edge' 'Firefox' 'Chrome' 'Unknown' 'Safari']\n",
      "session_id             9537\n",
      "network_packet_size    9537\n",
      "protocol_type          9537\n",
      "login_attempts         9537\n",
      "session_duration       9537\n",
      "encryption_used        7571\n",
      "ip_reputation_score    9537\n",
      "failed_logins          9537\n",
      "browser_type           9537\n",
      "unusual_time_access    9537\n",
      "attack_detected        9537\n",
      "dtype: int64\n"
     ]
    }
   ],
   "source": [
    "print(df['browser_type'].unique())\n",
    "print(df.count())"
   ]
  },
  {
   "cell_type": "markdown",
   "id": "d07ac8f4",
   "metadata": {},
   "source": [
    "We want to check if a user is using bad encryption and which browsers are based on that."
   ]
  },
  {
   "cell_type": "code",
   "execution_count": 24,
   "id": "64306c1d",
   "metadata": {},
   "outputs": [
    {
     "name": "stdout",
     "output_type": "stream",
     "text": [
      "['DES']\n",
      "session_id             2865\n",
      "network_packet_size    2865\n",
      "protocol_type          2865\n",
      "login_attempts         2865\n",
      "session_duration       2865\n",
      "encryption_used        2865\n",
      "ip_reputation_score    2865\n",
      "failed_logins          2865\n",
      "browser_type           2865\n",
      "unusual_time_access    2865\n",
      "attack_detected        2865\n",
      "dtype: int64\n"
     ]
    }
   ],
   "source": [
    "des_encryption = df[df.encryption_used=='DES']\n",
    "print(des_encryption['encryption_used'].unique())\n",
    "print(des_encryption.count())"
   ]
  },
  {
   "cell_type": "code",
   "execution_count": 26,
   "id": "f44d8732",
   "metadata": {},
   "outputs": [
    {
     "name": "stdout",
     "output_type": "stream",
     "text": [
      "['Edge' 'Firefox' 'Chrome' 'Unknown' 'Safari']\n"
     ]
    }
   ],
   "source": [
    "print(des_encryption['browser_type'].unique())"
   ]
  },
  {
   "cell_type": "code",
   "execution_count": null,
   "id": "e280b25d",
   "metadata": {},
   "outputs": [
    {
     "name": "stdout",
     "output_type": "stream",
     "text": [
      "1541\n",
      "448\n",
      "602\n",
      "138\n",
      "136\n"
     ]
    }
   ],
   "source": [
    "count_of_edge, count_of_firefox, count_of_chrome, count_unknown, count_of_safari = 0,0,0,0,0\n",
    "\n",
    "for browser in des_encryption['browser_type']:\n",
    "    if browser == \"Edge\":\n",
    "        count_of_edge += 1\n",
    "    elif browser == \"Firefox\":\n",
    "        count_of_firefox += 1\n",
    "    elif browser == \"Chrome\":\n",
    "        count_of_chrome += 1\n",
    "    elif browser == \"Safari\":\n",
    "        count_of_safari += 1\n",
    "    else:\n",
    "        count_unknown += 1\n",
    "        \n",
    "print(count_of_chrome)\n",
    "print(count_of_edge)\n",
    "print(count_of_firefox)\n",
    "print(count_of_safari)\n",
    "print(count_unknown)"
   ]
  },
  {
   "cell_type": "code",
   "execution_count": 32,
   "id": "a87d998c",
   "metadata": {},
   "outputs": [
    {
     "name": "stdout",
     "output_type": "stream",
     "text": [
      "browser_type\n",
      "Chrome     2334\n",
      "Edge        699\n",
      "Firefox     904\n",
      "Safari      208\n",
      "Unknown     227\n",
      "Name: failed_logins, dtype: int64\n"
     ]
    }
   ],
   "source": [
    "failed_logins = des_encryption.groupby('browser_type')['failed_logins'].sum()\n",
    "print(failed_logins)"
   ]
  }
 ],
 "metadata": {
  "kernelspec": {
   "display_name": "Python 3",
   "language": "python",
   "name": "python3"
  },
  "language_info": {
   "codemirror_mode": {
    "name": "ipython",
    "version": 3
   },
   "file_extension": ".py",
   "mimetype": "text/x-python",
   "name": "python",
   "nbconvert_exporter": "python",
   "pygments_lexer": "ipython3",
   "version": "3.13.1"
  }
 },
 "nbformat": 4,
 "nbformat_minor": 5
}
